{
 "cells": [
  {
   "cell_type": "markdown",
   "metadata": {},
   "source": [
    "# File Operation\n",
    "1. w for write\n",
    "2. r for read\n",
    "3. a for append"
   ]
  },
  {
   "cell_type": "code",
   "execution_count": 15,
   "metadata": {},
   "outputs": [
    {
     "name": "stdout",
     "output_type": "stream",
     "text": [
      "False\n",
      "True\n"
     ]
    }
   ],
   "source": [
    "f = open(\"t1.txt\", \"w\")\n",
    "f.write(\"Hello World.\\n\")\n",
    "f.write(\"Hello Abhishek.\")\n",
    "print(f.closed)\n",
    "f.close()\n",
    "print(f.closed)"
   ]
  },
  {
   "cell_type": "code",
   "execution_count": 16,
   "metadata": {},
   "outputs": [
    {
     "name": "stdout",
     "output_type": "stream",
     "text": [
      "Hello World.\n",
      "Hello Abhishek.\n"
     ]
    }
   ],
   "source": [
    "f = open(\"t1.txt\", \"r\")\n",
    "str1 = f.read()\n",
    "print(str1)\n",
    "f.close()"
   ]
  },
  {
   "cell_type": "code",
   "execution_count": 17,
   "metadata": {},
   "outputs": [],
   "source": [
    "f = open(\"t1.txt\", \"a\")\n",
    "str1 = \"What's up python \"\n",
    "str2 = \"how are you?\"\n",
    "f.write(str1)\n",
    "f.write(str2)\n",
    "f.close()"
   ]
  },
  {
   "cell_type": "code",
   "execution_count": 18,
   "metadata": {},
   "outputs": [
    {
     "name": "stdout",
     "output_type": "stream",
     "text": [
      "Hello World.\n",
      "Hello Abhishek.What's up python how are you?\n"
     ]
    }
   ],
   "source": [
    "f = open(\"t1.txt\", \"r\")\n",
    "str1 = f.read()\n",
    "print(str1)\n",
    "f.close()"
   ]
  },
  {
   "cell_type": "code",
   "execution_count": 19,
   "metadata": {},
   "outputs": [
    {
     "name": "stdout",
     "output_type": "stream",
     "text": [
      "Hello\n"
     ]
    }
   ],
   "source": [
    "f = open(\"t1.txt\", \"r\")\n",
    "str1 = f.read(5)\n",
    "print(str1)\n",
    "f.close()"
   ]
  },
  {
   "cell_type": "code",
   "execution_count": 20,
   "metadata": {},
   "outputs": [
    {
     "name": "stdout",
     "output_type": "stream",
     "text": [
      "Hello World.\n",
      "\n"
     ]
    }
   ],
   "source": [
    "f = open(\"t1.txt\", \"r\")\n",
    "str1 = f.readline()\n",
    "print(str1)\n",
    "f.close()"
   ]
  },
  {
   "cell_type": "code",
   "execution_count": 23,
   "metadata": {},
   "outputs": [
    {
     "name": "stdout",
     "output_type": "stream",
     "text": [
      "<class 'list'>\n",
      "58\n",
      "['Hello World.\\n', \"Hello Abhishek.What's up python how are you?\"]\n"
     ]
    }
   ],
   "source": [
    "f = open(\"t1.txt\", \"r\")\n",
    "str1 = f.readlines()\n",
    "print(type(str1))\n",
    "print(f.tell()) #number of characters in file\n",
    "print(str1)\n",
    "f.close()"
   ]
  },
  {
   "cell_type": "code",
   "execution_count": 25,
   "metadata": {},
   "outputs": [
    {
     "name": "stdout",
     "output_type": "stream",
     "text": [
      "0\n",
      "Hello World.\n",
      "\n",
      "14\n",
      "Hello Abhishek.What's up python how are you?\n",
      "58\n"
     ]
    }
   ],
   "source": [
    "f = open(\"t1.txt\", \"r\")\n",
    "print(f.tell())\n",
    "print(f.readline())\n",
    "print(f.tell())\n",
    "print(f.readline())\n",
    "print(f.tell())\n",
    "f.close()"
   ]
  },
  {
   "cell_type": "code",
   "execution_count": 28,
   "metadata": {},
   "outputs": [],
   "source": [
    "f = open(\"t2.txt\", \"w\")\n",
    "f.write(\"Abhishek\\n\")\n",
    "f.write(\"We are learning python language\\n\")\n",
    "f.close()"
   ]
  },
  {
   "cell_type": "code",
   "execution_count": 29,
   "metadata": {},
   "outputs": [],
   "source": [
    "f = open(\"t2.txt\", \"a\")\n",
    "f.write(\"We love programming!\\n\")\n",
    "f.write(\"Python is great language.\\n\")\n",
    "f.close()"
   ]
  },
  {
   "cell_type": "markdown",
   "metadata": {},
   "source": [
    "# Import Module"
   ]
  },
  {
   "cell_type": "code",
   "execution_count": 30,
   "metadata": {},
   "outputs": [
    {
     "name": "stdout",
     "output_type": "stream",
     "text": [
      "File renaming successfully\n"
     ]
    }
   ],
   "source": [
    "#rename\n",
    "import os\n",
    "os.rename(\"t2.txt\", \"python.txt\")\n",
    "print(\"File renaming successfully\")"
   ]
  },
  {
   "cell_type": "code",
   "execution_count": 31,
   "metadata": {},
   "outputs": [
    {
     "data": {
      "text/plain": [
       "'C:\\\\Users\\\\abhishek.jagtap\\\\Python Practice'"
      ]
     },
     "execution_count": 31,
     "metadata": {},
     "output_type": "execute_result"
    }
   ],
   "source": [
    "import os\n",
    "os.getcwd()"
   ]
  },
  {
   "cell_type": "code",
   "execution_count": 46,
   "metadata": {},
   "outputs": [
    {
     "name": "stdout",
     "output_type": "stream",
     "text": [
      "Folder is created!\n"
     ]
    }
   ],
   "source": [
    "import os\n",
    "os.mkdir(\"python\")\n",
    "print(\"Folder is created!\")"
   ]
  },
  {
   "cell_type": "code",
   "execution_count": 45,
   "metadata": {},
   "outputs": [
    {
     "name": "stdout",
     "output_type": "stream",
     "text": [
      "Folder is deleted\n"
     ]
    }
   ],
   "source": [
    "import os\n",
    "os.rmdir(\"python\")\n",
    "print(\"Folder is deleted\")"
   ]
  },
  {
   "cell_type": "code",
   "execution_count": 47,
   "metadata": {},
   "outputs": [
    {
     "name": "stdout",
     "output_type": "stream",
     "text": [
      "Folder renamed!\n"
     ]
    }
   ],
   "source": [
    "import os\n",
    "os.rename(\"python\", \"java\")\n",
    "print(\"Folder renamed!\")"
   ]
  },
  {
   "cell_type": "code",
   "execution_count": 48,
   "metadata": {},
   "outputs": [
    {
     "data": {
      "text/plain": [
       "['.git',\n",
       " '.gitattributes',\n",
       " '.ipynb_checkpoints',\n",
       " 'Assignment_2_SonaliSagare.ipynb',\n",
       " 'Assignment_3.ipynb',\n",
       " 'Assignment_Day2.ipynb',\n",
       " 'Day 1 Assignment.ipynb',\n",
       " 'Day 1 Lecture.ipynb',\n",
       " 'Day 2 Assignment.ipynb',\n",
       " 'Day 2 Lecture.ipynb',\n",
       " 'Day 3 Assignment.ipynb',\n",
       " 'Day 3 Lecture.ipynb',\n",
       " 'Day 4 Assignment.ipynb',\n",
       " 'Day 4 Lecture.ipynb',\n",
       " 'Day 5 Assignment.ipynb',\n",
       " 'Day 5 Lecture.ipynb',\n",
       " 'Day 6 Lecture.ipynb',\n",
       " 'Day_3_Assignment_1_and_2_SonaliSagare.ipynb',\n",
       " 'Day_4_Assignment_SonaliSagare.ipynb',\n",
       " 'python.txt',\n",
       " 'README.md',\n",
       " 't1.txt']"
      ]
     },
     "execution_count": 48,
     "metadata": {},
     "output_type": "execute_result"
    }
   ],
   "source": [
    "os.listdir()"
   ]
  },
  {
   "cell_type": "markdown",
   "metadata": {},
   "source": [
    "# Exception"
   ]
  },
  {
   "cell_type": "code",
   "execution_count": 70,
   "metadata": {},
   "outputs": [
    {
     "name": "stdout",
     "output_type": "stream",
     "text": [
      "Enter a no: 1\n",
      "Enter b no: q\n",
      "Somthing is wrong\n"
     ]
    }
   ],
   "source": [
    "#try catch\n",
    "try:\n",
    "    a = int(input(\"Enter a no: \"))\n",
    "    b = int(input(\"Enter b no: \"))\n",
    "    c = a/b\n",
    "    print(c)\n",
    "except Exception:\n",
    "    print(\"Somthing is wrong\")"
   ]
  },
  {
   "cell_type": "code",
   "execution_count": 71,
   "metadata": {},
   "outputs": [
    {
     "name": "stdout",
     "output_type": "stream",
     "text": [
      "Enter a no: 1\n",
      "Enter b no: 0\n",
      "Cannot divide by Zero\n"
     ]
    }
   ],
   "source": [
    "#multiple catch\n",
    "try:\n",
    "    a = int(input(\"Enter a no: \"))\n",
    "    b = int(input(\"Enter b no: \"))\n",
    "    c = a/b\n",
    "    print(c)\n",
    "except ZeroDivisionError:\n",
    "    print(\"Cannot divide by Zero\")\n",
    "except ValueError:\n",
    "    print(\"Please enters numbers only\")\n",
    "except Exception:\n",
    "    print(\"Somthing is wrong\")"
   ]
  },
  {
   "cell_type": "code",
   "execution_count": 72,
   "metadata": {},
   "outputs": [
    {
     "name": "stdout",
     "output_type": "stream",
     "text": [
      "please Enter a number:a\n",
      "Something is wrong\n",
      "please Enter a number:1\n",
      "1\n"
     ]
    }
   ],
   "source": [
    "#continious input taken till correct input is given\n",
    "while True:\n",
    "    try:\n",
    "        x = int(input(\"please Enter a number:\"))\n",
    "        print(x)\n",
    "        break\n",
    "    except Exception:\n",
    "        print(\"Something is wrong\")"
   ]
  },
  {
   "cell_type": "code",
   "execution_count": 73,
   "metadata": {},
   "outputs": [
    {
     "name": "stdout",
     "output_type": "stream",
     "text": [
      "Enter a no: 2\n",
      "Enter b no: a\n",
      "Somthing is wrong\n"
     ]
    }
   ],
   "source": [
    "#else part\n",
    "try:\n",
    "    a = int(input(\"Enter a no: \"))\n",
    "    b = int(input(\"Enter b no: \"))\n",
    "    c = a/b\n",
    "except:\n",
    "    print(\"Somthing is wrong\")\n",
    "else:\n",
    "    print(c)"
   ]
  },
  {
   "cell_type": "code",
   "execution_count": 74,
   "metadata": {},
   "outputs": [
    {
     "name": "stdout",
     "output_type": "stream",
     "text": [
      "Enter a no: 2\n",
      "Enter b no: 0\n",
      "Somthing is wrong\n"
     ]
    }
   ],
   "source": [
    "#Multiple exception catch\n",
    "try:\n",
    "    a = int(input(\"Enter a no: \"))\n",
    "    b = int(input(\"Enter b no: \"))\n",
    "    c = a/b\n",
    "except (ValueError, ZeroDivisionError):\n",
    "    print(\"Somthing is wrong\")\n",
    "else:\n",
    "    print(c)"
   ]
  },
  {
   "cell_type": "code",
   "execution_count": 75,
   "metadata": {},
   "outputs": [
    {
     "name": "stdout",
     "output_type": "stream",
     "text": [
      "Enter a no: 2\n",
      "Enter b no: s\n",
      "Somthing is wrong\n",
      "End of program\n"
     ]
    }
   ],
   "source": [
    "#Finally\n",
    "try:\n",
    "    a = int(input(\"Enter a no: \"))\n",
    "    b = int(input(\"Enter b no: \"))\n",
    "    c = a/b\n",
    "except (ValueError, ZeroDivisionError):\n",
    "    print(\"Somthing is wrong\")\n",
    "else:\n",
    "    print(c)\n",
    "finally:\n",
    "    print(\"End of program\")"
   ]
  },
  {
   "cell_type": "markdown",
   "metadata": {},
   "source": [
    "# Functional programming\n",
    "## map()"
   ]
  },
  {
   "cell_type": "code",
   "execution_count": 78,
   "metadata": {},
   "outputs": [
    {
     "name": "stdout",
     "output_type": "stream",
     "text": [
      "<map object at 0x0000013B6E4E3B88>\n",
      "1 2 3 4 5 [1, 4, 9, 16, 25]\n"
     ]
    }
   ],
   "source": [
    "def sqr(a):\n",
    "    print(a, end=\" \")\n",
    "    return a*a\n",
    "\n",
    "x = map(sqr, (1,2,3,4, 5))  #any iterable in 2nd argument\n",
    "print(x)\n",
    "print(list(x))"
   ]
  },
  {
   "cell_type": "code",
   "execution_count": 81,
   "metadata": {},
   "outputs": [
    {
     "name": "stdout",
     "output_type": "stream",
     "text": [
      "(2, 4, 6, 12, 15)\n"
     ]
    }
   ],
   "source": [
    "def sqr(a, b):\n",
    "    return a*b\n",
    "\n",
    "x = map(sqr, (1,2,3,4,5), [2, 2, 2, 3, 3]) \n",
    "print(tuple(x))"
   ]
  },
  {
   "cell_type": "markdown",
   "metadata": {},
   "source": [
    "# Lambda functions"
   ]
  },
  {
   "cell_type": "code",
   "execution_count": 82,
   "metadata": {},
   "outputs": [
    {
     "data": {
      "text/plain": [
       "9"
      ]
     },
     "execution_count": 82,
     "metadata": {},
     "output_type": "execute_result"
    }
   ],
   "source": [
    "x = lambda a : a*a\n",
    "x(3)"
   ]
  },
  {
   "cell_type": "code",
   "execution_count": 83,
   "metadata": {},
   "outputs": [
    {
     "name": "stdout",
     "output_type": "stream",
     "text": [
      "<function abc.<locals>.<lambda> at 0x0000013B6E1D59D8>\n",
      "15\n"
     ]
    }
   ],
   "source": [
    "def abc(x):\n",
    "    return lambda y : x+y\n",
    "\n",
    "t = abc(5)\n",
    "print(t)\n",
    "print(t(10))"
   ]
  }
 ],
 "metadata": {
  "kernelspec": {
   "display_name": "Python 3",
   "language": "python",
   "name": "python3"
  },
  "language_info": {
   "codemirror_mode": {
    "name": "ipython",
    "version": 3
   },
   "file_extension": ".py",
   "mimetype": "text/x-python",
   "name": "python",
   "nbconvert_exporter": "python",
   "pygments_lexer": "ipython3",
   "version": "3.7.6"
  }
 },
 "nbformat": 4,
 "nbformat_minor": 4
}
