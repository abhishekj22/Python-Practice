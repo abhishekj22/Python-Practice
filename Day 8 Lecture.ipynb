{
 "cells": [
  {
   "cell_type": "markdown",
   "metadata": {},
   "source": [
    "# Class and Object"
   ]
  },
  {
   "cell_type": "code",
   "execution_count": 7,
   "metadata": {},
   "outputs": [
    {
     "name": "stdout",
     "output_type": "stream",
     "text": [
      "Hello function\n"
     ]
    }
   ],
   "source": [
    "class IIT:\n",
    "    def show(self):\n",
    "        print(\"Hello function\")\n",
    "        \n",
    "obj = IIT()\n",
    "obj.show()"
   ]
  },
  {
   "cell_type": "code",
   "execution_count": 8,
   "metadata": {},
   "outputs": [
    {
     "name": "stdout",
     "output_type": "stream",
     "text": [
      "n = 10\n",
      "n1 = 10\n"
     ]
    }
   ],
   "source": [
    "class abc:\n",
    "    def show(self, n):\n",
    "        n1 = n\n",
    "        print(\"n =\", n)\n",
    "        print(\"n1 =\",n1)\n",
    "\n",
    "obj = abc()\n",
    "obj.show(10)"
   ]
  },
  {
   "cell_type": "code",
   "execution_count": 10,
   "metadata": {},
   "outputs": [
    {
     "name": "stdout",
     "output_type": "stream",
     "text": [
      "n = 10\n",
      "n = 10\n"
     ]
    }
   ],
   "source": [
    "class abc:\n",
    "    def show(self, n):\n",
    "        n = n\n",
    "        print(\"n =\", n)\n",
    "        print(\"n =\",n)\n",
    "\n",
    "obj = abc()\n",
    "obj.show(10)"
   ]
  },
  {
   "cell_type": "code",
   "execution_count": 12,
   "metadata": {},
   "outputs": [
    {
     "name": "stdout",
     "output_type": "stream",
     "text": [
      "self n = 10\n",
      "n = 10\n",
      "self n = 11\n",
      "n = 10\n"
     ]
    }
   ],
   "source": [
    "class abc:\n",
    "    def show(self, n):\n",
    "        self.n = n\n",
    "        print(\"self n =\", self.n)\n",
    "        print(\"n =\",n)\n",
    "        self.n = n + 1\n",
    "        print(\"self n =\", self.n)\n",
    "        print(\"n =\",n)\n",
    "\n",
    "obj = abc()\n",
    "obj.show(10)"
   ]
  },
  {
   "cell_type": "markdown",
   "metadata": {},
   "source": [
    "## Constructor"
   ]
  },
  {
   "cell_type": "code",
   "execution_count": 13,
   "metadata": {},
   "outputs": [
    {
     "name": "stdout",
     "output_type": "stream",
     "text": [
      "In constructor\n",
      "In mno\n"
     ]
    }
   ],
   "source": [
    "class pqr:\n",
    "    def __init__(self):\n",
    "        print(\"In constructor\")\n",
    "    def mno(self):\n",
    "        print(\"In mno\")\n",
    "\n",
    "x = pqr()\n",
    "x.mno()"
   ]
  },
  {
   "cell_type": "code",
   "execution_count": 15,
   "metadata": {},
   "outputs": [
    {
     "name": "stdout",
     "output_type": "stream",
     "text": [
      "In constructor\n",
      "5\n",
      "6\n",
      "In mno\n"
     ]
    }
   ],
   "source": [
    "class pqr:\n",
    "    def __init__(self,n):\n",
    "        print(\"In constructor\")\n",
    "        self.n1 = n+1\n",
    "        print(n)\n",
    "        print(self.n1)\n",
    "        \n",
    "    def mno(self):\n",
    "        print(\"In mno\")\n",
    "\n",
    "x = pqr(5)\n",
    "x.mno()"
   ]
  },
  {
   "cell_type": "code",
   "execution_count": 18,
   "metadata": {},
   "outputs": [
    {
     "name": "stdout",
     "output_type": "stream",
     "text": [
      "second\n",
      "In mno\n"
     ]
    }
   ],
   "source": [
    "class pqr:\n",
    "    def __init__(self):\n",
    "        print(\"first\")\n",
    "    def __init__(self):\n",
    "        print(\"second\")\n",
    "        \n",
    "    def mno(self):\n",
    "        print(\"In mno\")\n",
    "\n",
    "y = pqr()\n",
    "x.mno()"
   ]
  },
  {
   "cell_type": "code",
   "execution_count": 21,
   "metadata": {},
   "outputs": [
    {
     "data": {
      "text/plain": [
       "6"
      ]
     },
     "execution_count": 21,
     "metadata": {},
     "output_type": "execute_result"
    }
   ],
   "source": [
    "class aa:\n",
    "    def ab(self,a,b):\n",
    "        self.a = a\n",
    "        self.b = b\n",
    "        return self.a + self.b\n",
    "\n",
    "x = aa()\n",
    "x.ab(2, 4)"
   ]
  },
  {
   "cell_type": "markdown",
   "metadata": {},
   "source": [
    "## destructor"
   ]
  },
  {
   "cell_type": "code",
   "execution_count": 23,
   "metadata": {},
   "outputs": [
    {
     "name": "stdout",
     "output_type": "stream",
     "text": [
      "Hello Ab\n",
      "destructor\n",
      "Hello py\n",
      "destructor\n"
     ]
    }
   ],
   "source": [
    "class abc:\n",
    "    def __init__(self,str1):\n",
    "        print(\"Hello\", str1)\n",
    "    def __del__(self):\n",
    "        print(\"destructor\")\n",
    "\n",
    "a = abc(\"Ab\")\n",
    "a = aa()\n",
    "b = abc(\"py\")"
   ]
  },
  {
   "cell_type": "markdown",
   "metadata": {},
   "source": [
    "# Inheritance"
   ]
  },
  {
   "cell_type": "code",
   "execution_count": 1,
   "metadata": {},
   "outputs": [
    {
     "name": "stdout",
     "output_type": "stream",
     "text": [
      "In base class abc\n",
      "In child class xyz\n"
     ]
    }
   ],
   "source": [
    "class abc:\n",
    "    def s1(self):\n",
    "        print(\"In base class abc\")\n",
    "class xyz(abc):\n",
    "    def s2(self):\n",
    "        print(\"In child class xyz\")\n",
    "        \n",
    "o = xyz()\n",
    "o.s1()\n",
    "o.s2()"
   ]
  },
  {
   "cell_type": "code",
   "execution_count": 3,
   "metadata": {},
   "outputs": [
    {
     "name": "stdout",
     "output_type": "stream",
     "text": [
      "N1 =  10\n",
      "N2 =  13\n",
      "sun = 23\n"
     ]
    }
   ],
   "source": [
    "#Multiple Inheritance\n",
    "class a1:\n",
    "    def b1(self):\n",
    "        self.n1 = 10\n",
    "        print(\"N1 = \", self.n1)\n",
    "class a2:\n",
    "    def b2(self):\n",
    "        self.n2 = 13\n",
    "        print(\"N2 = \", self.n2)\n",
    "class a(a1, a2):\n",
    "    def b(self):\n",
    "        c = self.n1 + self.n2\n",
    "        print(\"sun =\", c)\n",
    "        \n",
    "o = a()\n",
    "o.b1()\n",
    "o.b2()\n",
    "o.b()"
   ]
  },
  {
   "cell_type": "code",
   "execution_count": 5,
   "metadata": {},
   "outputs": [
    {
     "name": "stdout",
     "output_type": "stream",
     "text": [
      "Class S base class\n",
      "Class T child class\n",
      "class X child child class\n"
     ]
    }
   ],
   "source": [
    "#Overridding\n",
    "class S:\n",
    "    def show(self):\n",
    "        print(\"Class S base class\")\n",
    "class T(S):\n",
    "    def show(self):\n",
    "        print(\"Class T child class\")\n",
    "class X(T):\n",
    "    def show(self):\n",
    "        print(\"class X child child class\")\n",
    "        \n",
    "o = S()\n",
    "o.show()\n",
    "p = T()\n",
    "p.show()\n",
    "q = X()\n",
    "q.show()"
   ]
  },
  {
   "cell_type": "markdown",
   "metadata": {},
   "source": [
    "# Generators"
   ]
  },
  {
   "cell_type": "code",
   "execution_count": 6,
   "metadata": {},
   "outputs": [
    {
     "data": {
      "text/plain": [
       "<generator object abc at 0x00000205BD9480C8>"
      ]
     },
     "execution_count": 6,
     "metadata": {},
     "output_type": "execute_result"
    }
   ],
   "source": [
    "def abc():\n",
    "    yield 1\n",
    "    yield 2\n",
    "    yield 3\n",
    "    \n",
    "abc()"
   ]
  },
  {
   "cell_type": "code",
   "execution_count": 7,
   "metadata": {},
   "outputs": [
    {
     "name": "stdout",
     "output_type": "stream",
     "text": [
      "1\n",
      "2\n",
      "3\n"
     ]
    }
   ],
   "source": [
    "for i in abc():\n",
    "    print(i)"
   ]
  },
  {
   "cell_type": "code",
   "execution_count": 9,
   "metadata": {},
   "outputs": [
    {
     "name": "stdout",
     "output_type": "stream",
     "text": [
      "1\n",
      "2\n",
      "3\n"
     ]
    }
   ],
   "source": [
    "x = abc()\n",
    "\n",
    "print(x.__next__())\n",
    "print(x.__next__())\n",
    "print(x.__next__())"
   ]
  },
  {
   "cell_type": "code",
   "execution_count": 18,
   "metadata": {},
   "outputs": [
    {
     "name": "stdout",
     "output_type": "stream",
     "text": [
      "in upper\n",
      "in inner\n",
      "in lower\n",
      "LEARNING DECORATOR\n"
     ]
    }
   ],
   "source": []
  },
  {
   "cell_type": "code",
   "execution_count": null,
   "metadata": {},
   "outputs": [],
   "source": []
  }
 ],
 "metadata": {
  "kernelspec": {
   "display_name": "Python 3",
   "language": "python",
   "name": "python3"
  },
  "language_info": {
   "codemirror_mode": {
    "name": "ipython",
    "version": 3
   },
   "file_extension": ".py",
   "mimetype": "text/x-python",
   "name": "python",
   "nbconvert_exporter": "python",
   "pygments_lexer": "ipython3",
   "version": "3.7.6"
  }
 },
 "nbformat": 4,
 "nbformat_minor": 4
}
