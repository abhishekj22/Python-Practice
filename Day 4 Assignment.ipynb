{
 "cells": [
  {
   "cell_type": "code",
   "execution_count": 15,
   "metadata": {},
   "outputs": [],
   "source": [
    "#Identify lsit [1,1,5] in the given list in the same order , if yes print Its match or else print its not a match"
   ]
  },
  {
   "cell_type": "code",
   "execution_count": 17,
   "metadata": {},
   "outputs": [
    {
     "name": "stdout",
     "output_type": "stream",
     "text": [
      "Enter no. of elements in list: 5\n",
      "Enter the number: 1\n",
      "Enter the number: 3\n",
      "Enter the number: 1\n",
      "Enter the number: 4\n",
      "Enter the number: 1\n",
      "It's not a match\n"
     ]
    }
   ],
   "source": [
    "def checkIsSubList(subList, inputList):\n",
    "    j=0\n",
    "    for i in inputList:\n",
    "        if(i == subList[j]):\n",
    "            j = j + 1\n",
    "            if(j == 3):\n",
    "                return j\n",
    "\n",
    "\n",
    "subList = (1, 1, 5)\n",
    "x = int(input(\"Enter no. of elements in list: \"))\n",
    "inputList = []\n",
    "for i in range(x):\n",
    "    inputList.append(int(input(\"Enter the number: \")))\n",
    "\n",
    "result = checkIsSubList(subList, inputList)\n",
    "            \n",
    "if(result == 3):\n",
    "    print(\"It's a match\")\n",
    "else:\n",
    "    print(\"It's not a match\")"
   ]
  },
  {
   "cell_type": "code",
   "execution_count": null,
   "metadata": {},
   "outputs": [],
   "source": []
  }
 ],
 "metadata": {
  "kernelspec": {
   "display_name": "Python 3",
   "language": "python",
   "name": "python3"
  },
  "language_info": {
   "codemirror_mode": {
    "name": "ipython",
    "version": 3
   },
   "file_extension": ".py",
   "mimetype": "text/x-python",
   "name": "python",
   "nbconvert_exporter": "python",
   "pygments_lexer": "ipython3",
   "version": "3.7.6"
  }
 },
 "nbformat": 4,
 "nbformat_minor": 4
}
