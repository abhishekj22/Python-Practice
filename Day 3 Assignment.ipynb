{
 "cells": [
  {
   "cell_type": "code",
   "execution_count": 1,
   "metadata": {},
   "outputs": [],
   "source": [
    "#Assignment problem 1:"
   ]
  },
  {
   "cell_type": "code",
   "execution_count": 6,
   "metadata": {},
   "outputs": [
    {
     "name": "stdout",
     "output_type": "stream",
     "text": [
      "Enter your marks of out of 100: 96\n",
      "You Got Distinction!\n"
     ]
    }
   ],
   "source": [
    "marks = int(input(\"Enter your marks of out of 100: \"))\n",
    "if marks <= 100:\n",
    "    if (marks >= 95 and marks <= 100): print(\"You Got Distinction!\")\n",
    "    elif (marks >= 85 and marks < 95): print(\"You Got A Grade!\")\n",
    "    elif (marks >= 75 and marks < 85): print(\"You Got B Grade!\")\n",
    "    elif (marks >= 65 and marks < 75): print(\"You Got C Grade!\")\n",
    "    elif (marks >= 50 and marks < 65): print(\"You Got D Grade!\")\n",
    "    elif (marks >= 35 and marks < 50): print(\"You Got E Grade!\")\n",
    "    else: print(\"FAILED\")\n",
    "else:\n",
    "    print(\"Please enter marks out of 100!\")"
   ]
  },
  {
   "cell_type": "code",
   "execution_count": 7,
   "metadata": {},
   "outputs": [],
   "source": [
    "#Assignment problem 2:"
   ]
  },
  {
   "cell_type": "code",
   "execution_count": 8,
   "metadata": {},
   "outputs": [
    {
     "name": "stdout",
     "output_type": "stream",
     "text": [
      "Enter your prediction for runs scored by team : 23\n",
      "NAH!! Better Luck Next Time\n",
      "Runs Scored By Team :  33\n",
      "Your Prediction Was :  23\n"
     ]
    }
   ],
   "source": [
    "import random\n",
    "runsScored = random.randrange(0,251)\n",
    "predictedRuns = int(input(\"Enter your predicted score : \"))\n",
    "if predictedRuns > 250 or predictedRuns < 1:\n",
    "    print (\"Reduce your expectation from T-20 match!\")\n",
    "else:\n",
    "    if predictedRuns <= (runsScored + 5) and predictedRuns >= (runsScored - 5):\n",
    "        print (\"Close Call..!!\")\n",
    "    else:\n",
    "        print (\"Better Luck Next Time!!\")\n",
    "print(\"Runs Scored By Team : \" , runsScored)\n",
    "print(\"Your Prediction was : \" , predictedRuns)"
   ]
  }
 ],
 "metadata": {
  "kernelspec": {
   "display_name": "Python 3",
   "language": "python",
   "name": "python3"
  },
  "language_info": {
   "codemirror_mode": {
    "name": "ipython",
    "version": 3
   },
   "file_extension": ".py",
   "mimetype": "text/x-python",
   "name": "python",
   "nbconvert_exporter": "python",
   "pygments_lexer": "ipython3",
   "version": "3.7.6"
  }
 },
 "nbformat": 4,
 "nbformat_minor": 4
}
