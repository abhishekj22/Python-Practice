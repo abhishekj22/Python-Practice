{
 "cells": [
  {
   "cell_type": "code",
   "execution_count": 7,
   "metadata": {},
   "outputs": [],
   "source": [
    "#Q1. Count holes in string"
   ]
  },
  {
   "cell_type": "code",
   "execution_count": 13,
   "metadata": {},
   "outputs": [
    {
     "name": "stdout",
     "output_type": "stream",
     "text": [
      "Enter a String: DRINKEATCODE\n",
      "5\n"
     ]
    }
   ],
   "source": [
    "holes=['A','B','D','O', 'P','Q','R','a','b','d','e','g','o','p','q']\n",
    "userString = input(\"Enter a String: \")\n",
    "res = 0\n",
    "for i in userString:\n",
    "    if i in holes:\n",
    "        res = res + 1\n",
    "print(res)"
   ]
  },
  {
   "cell_type": "code",
   "execution_count": null,
   "metadata": {},
   "outputs": [],
   "source": [
    "#Q2. Write Notebook as Sir's"
   ]
  },
  {
   "cell_type": "markdown",
   "metadata": {},
   "source": [
    "# Map, Filter and Reduce\n",
    "\n",
    "Map, Filter and Reduce are paradigms of functional programming. \n",
    "They allow the programmer (you) to write simpler, shorter code, without neccessarily needing to bother about intricacies like loops and branching."
   ]
  },
  {
   "cell_type": "markdown",
   "metadata": {},
   "source": [
    "## Map"
   ]
  },
  {
   "cell_type": "markdown",
   "metadata": {},
   "source": [
    "_map(func, iterables)_\n",
    "\n",
    "Where _func_ is the function on which each element in _iterables_ (as many as they are) would be applied on. \n",
    "\n",
    "map() function returns a map object(which is an iterator) of the results after applying the given function to each item of a given iterable (list, tuple etc.)"
   ]
  },
  {
   "cell_type": "code",
   "execution_count": 1,
   "metadata": {},
   "outputs": [
    {
     "name": "stdout",
     "output_type": "stream",
     "text": [
      "<map object at 0x000001B72B34A648>\n",
      "1 2 3 4 5 [1, 4, 9, 16, 25]\n"
     ]
    }
   ],
   "source": [
    "def sqr(a):\n",
    "    print(a, end=\" \")\n",
    "    return a*a\n",
    "\n",
    "x = map(sqr, (1,2,3,4, 5))  #any iterable in 2nd argument\n",
    "print(x)\n",
    "print(list(x))"
   ]
  },
  {
   "cell_type": "code",
   "execution_count": 3,
   "metadata": {},
   "outputs": [
    {
     "name": "stdout",
     "output_type": "stream",
     "text": [
      "(2, 4, 6, 12, 15)\n"
     ]
    }
   ],
   "source": [
    "def sqr(a, b):\n",
    "    return a*b\n",
    "\n",
    "# x = map(sqr, (1,2,3,4,5), [2, 2, 2, 3, 3]) \n",
    "# print(tuple(x))\n",
    "print(tuple(map(sqr, (1,2,3,4,5), [2, 2, 2, 3, 3])))"
   ]
  },
  {
   "cell_type": "markdown",
   "metadata": {},
   "source": [
    "# Lambda Function\n",
    "\n",
    "In Python, an anonymous function is a function that is defined without a name.\n",
    "\n",
    "While normal functions are defined using the def keyword in Python, anonymous functions are defined using the lambda keyword.\n",
    "\n",
    "Hence, anonymous functions are also called lambda functions.\n",
    "\n",
    "Syntax: \n",
    "\n",
    "    _lambda arguments: expression_\n",
    "    \n",
    "Lambda functions can have any number of arguments but only one expression. The expression is evaluated and returned. Lambda functions can be used wherever function objects are required."
   ]
  },
  {
   "cell_type": "code",
   "execution_count": 4,
   "metadata": {},
   "outputs": [
    {
     "data": {
      "text/plain": [
       "9"
      ]
     },
     "execution_count": 4,
     "metadata": {},
     "output_type": "execute_result"
    }
   ],
   "source": [
    "x = lambda a : a*a\n",
    "x(3)"
   ]
  },
  {
   "cell_type": "code",
   "execution_count": 5,
   "metadata": {},
   "outputs": [
    {
     "name": "stdout",
     "output_type": "stream",
     "text": [
      "<function abc.<locals>.<lambda> at 0x000001B72B344048>\n",
      "15\n"
     ]
    }
   ],
   "source": [
    "def abc(x):\n",
    "    return lambda y : x+y\n",
    "\n",
    "t = abc(5)\n",
    "print(t)\n",
    "print(t(10))"
   ]
  }
 ],
 "metadata": {
  "kernelspec": {
   "display_name": "Python 3",
   "language": "python",
   "name": "python3"
  },
  "language_info": {
   "codemirror_mode": {
    "name": "ipython",
    "version": 3
   },
   "file_extension": ".py",
   "mimetype": "text/x-python",
   "name": "python",
   "nbconvert_exporter": "python",
   "pygments_lexer": "ipython3",
   "version": "3.7.6"
  }
 },
 "nbformat": 4,
 "nbformat_minor": 4
}
