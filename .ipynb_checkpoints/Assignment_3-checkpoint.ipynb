{
 "cells": [
  {
   "cell_type": "markdown",
   "metadata": {},
   "source": [
    "# ASSIGNMENT PROBLEM 1\n",
    "\n",
    "WAP for taking one number an input and then using if else elif concept, Assign a grade for input number from A,B,C,D,E and Fail "
   ]
  },
  {
   "cell_type": "code",
   "execution_count": 13,
   "metadata": {},
   "outputs": [
    {
     "name": "stdout",
     "output_type": "stream",
     "text": [
      "Enter The Mark Of Student Out of 100 : 75\n",
      "Student Got B Grade\n"
     ]
    }
   ],
   "source": [
    "marks = int(input(\"Enter The Mark Of Student Out of 100 : \" ))\n",
    "if marks <= 100:\n",
    "    if (marks >= 85 and marks < 101):\n",
    "        print(\"Student Got A Grade\")\n",
    "    elif (marks >= 75 and marks < 85):\n",
    "        print(\"Student Got B Grade\")\n",
    "    elif (marks >= 65 and marks < 75):\n",
    "        print(\"Student Got C Grade\")\n",
    "    elif (marks >= 50 and marks < 65):\n",
    "        print(\"Student Got D Grade\")\n",
    "    elif (marks >= 35 and marks < 50):\n",
    "        print(\"Student Got E Grade\")\n",
    "    else:\n",
    "        print(\"Student Got FAILED\")\n",
    "else:\n",
    "    print(\"Error!!! Entered Marks Is Greater Than Accpted Marks\")"
   ]
  },
  {
   "cell_type": "markdown",
   "metadata": {},
   "source": [
    "# ASSIGNMENT PROBLEM 2\n",
    "\n",
    "WAP that give random score of INDIA in a cricket match and players hs to guess the runs scored by team in between 1 to 250. RULES are : 1. IF player guess is less than 1 and greater than 250 print (\"Reduced Your Expectation From T20 Match\" \n",
    "            2.On player input if there score guesses is within 10 of runs then print \"close one\" If more than 10 then print                   \"Better luck next time\""
   ]
  },
  {
   "cell_type": "code",
   "execution_count": 26,
   "metadata": {},
   "outputs": [
    {
     "name": "stdout",
     "output_type": "stream",
     "text": [
      "Give Your Prediction of Runs Scored By Team : 92\n",
      "CLOSE ONE!! \n",
      "Runs Scored By Team :  91\n",
      "Your Prediction Was :  92\n"
     ]
    }
   ],
   "source": [
    "import random\n",
    "Runs_Scored = random.randrange(0,251)\n",
    "Runs_Predicted = int(input(\"Give Your Prediction of Runs Scored By Team : \"))\n",
    "if Runs_Predicted > 250 and Runs_Predicted < 1:\n",
    "    print (\"Reduced Your Expectation From a T20 Match\")\n",
    "else:\n",
    "    if Runs_Predicted <= (Runs_Scored+5) and Runs_Predicted >= (Runs_Scored-5):\n",
    "        print (\"CLOSE ONE!! \")\n",
    "    else:\n",
    "        print (\"NAH!! Better Luck Next Time\")\n",
    "print(\"Runs Scored By Team : \" , Runs_Scored)\n",
    "print(\"Your Prediction Was : \" , Runs_Predicted)\n",
    "\n"
   ]
  },
  {
   "cell_type": "code",
   "execution_count": null,
   "metadata": {},
   "outputs": [],
   "source": []
  }
 ],
 "metadata": {
  "kernelspec": {
   "display_name": "Python 3",
   "language": "python",
   "name": "python3"
  },
  "language_info": {
   "codemirror_mode": {
    "name": "ipython",
    "version": 3
   },
   "file_extension": ".py",
   "mimetype": "text/x-python",
   "name": "python",
   "nbconvert_exporter": "python",
   "pygments_lexer": "ipython3",
   "version": "3.7.6"
  }
 },
 "nbformat": 4,
 "nbformat_minor": 2
}
