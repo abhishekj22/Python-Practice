{
 "cells": [
  {
   "cell_type": "code",
   "execution_count": 27,
   "metadata": {},
   "outputs": [],
   "source": [
    "#Q.1 Takae input in 0's and 1' and Convert one digit and check if all digit are equal or not equal"
   ]
  },
  {
   "cell_type": "code",
   "execution_count": 2,
   "metadata": {},
   "outputs": [
    {
     "name": "stdout",
     "output_type": "stream",
     "text": [
      "Enter a number in 0's and 1's from 101\n",
      "The current number is equal\n",
      "Yes\n"
     ]
    }
   ],
   "source": [
    "def check(s):\n",
    "    z = 0\n",
    "    o = 0\n",
    "    \n",
    "    for i in range(0 ,len(s)):\n",
    "        c = s[i]\n",
    "        if(c == 0):\n",
    "            z = z + 1\n",
    "        else:\n",
    "            o = o + 1\n",
    "            \n",
    "    return (z == 1 or o == 1)\n",
    "\n",
    "def convertToList(num):\n",
    "    p = []\n",
    "    while num / 10 > 0:\n",
    "        p.append(num % 10)\n",
    "        num = int(num / 10)\n",
    "    return p\n",
    "\n",
    "no = int(input(\"Enter a number in 0's and 1's from \"))\n",
    "l = convertToList(no)\n",
    "\n",
    "if(check(l)):\n",
    "    print(\"The current number is equal\")\n",
    "    print(\"Yes\")\n",
    "else:\n",
    "    print(\"The current number is not equal\")\n",
    "    print(\"No\")"
   ]
  },
  {
   "cell_type": "code",
   "execution_count": null,
   "metadata": {},
   "outputs": [],
   "source": []
  }
 ],
 "metadata": {
  "kernelspec": {
   "display_name": "Python 3",
   "language": "python",
   "name": "python3"
  },
  "language_info": {
   "codemirror_mode": {
    "name": "ipython",
    "version": 3
   },
   "file_extension": ".py",
   "mimetype": "text/x-python",
   "name": "python",
   "nbconvert_exporter": "python",
   "pygments_lexer": "ipython3",
   "version": "3.7.6"
  }
 },
 "nbformat": 4,
 "nbformat_minor": 4
}
