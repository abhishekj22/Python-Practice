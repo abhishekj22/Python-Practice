{
 "cells": [
  {
   "cell_type": "markdown",
   "metadata": {},
   "source": [
    "# Input function"
   ]
  },
  {
   "cell_type": "code",
   "execution_count": 1,
   "metadata": {},
   "outputs": [
    {
     "name": "stdout",
     "output_type": "stream",
     "text": [
      "Enter a number\n",
      "14\n",
      "14\n"
     ]
    }
   ],
   "source": [
    "print(\"Enter a number\")\n",
    "x = input()\n",
    "print(x)"
   ]
  },
  {
   "cell_type": "code",
   "execution_count": 4,
   "metadata": {},
   "outputs": [
    {
     "name": "stdout",
     "output_type": "stream",
     "text": [
      "Enter two number: \n",
      "3\n",
      "4\n",
      "<class 'str'>\n",
      "34\n"
     ]
    }
   ],
   "source": [
    "print(\"Enter two number: \")\n",
    "a = input()\n",
    "b = input()\n",
    "c = a + b\n",
    "print(type(c))\n",
    "print(c)"
   ]
  },
  {
   "cell_type": "code",
   "execution_count": 5,
   "metadata": {},
   "outputs": [
    {
     "name": "stdout",
     "output_type": "stream",
     "text": [
      "Enter a: 4\n",
      "Enter b: 5\n",
      "9\n"
     ]
    }
   ],
   "source": [
    "a = int(input(\"Enter a: \"))\n",
    "b = int(input(\"Enter b: \"))\n",
    "c = a + b\n",
    "print(c)"
   ]
  },
  {
   "cell_type": "code",
   "execution_count": 10,
   "metadata": {},
   "outputs": [
    {
     "name": "stdout",
     "output_type": "stream",
     "text": [
      "15.0\n",
      "20.0\n",
      "10.0\n"
     ]
    }
   ],
   "source": [
    "##default argument\n",
    "def avg(a=0, b=0, c=0):\n",
    "    sum = a + b + c\n",
    "    print(sum/2)\n",
    "    \n",
    "avg(5, 10, 15)\n",
    "avg(10, 30)\n",
    "avg(a=5, c =15)"
   ]
  },
  {
   "cell_type": "markdown",
   "metadata": {},
   "source": [
    "# String Function"
   ]
  },
  {
   "cell_type": "code",
   "execution_count": 13,
   "metadata": {},
   "outputs": [
    {
     "name": "stdout",
     "output_type": "stream",
     "text": [
      "Hello World\n",
      "<class 'str'>\n",
      "H\n",
      "d\n",
      "Hello\n",
      "Worl\n",
      "dlroW olleH\n"
     ]
    }
   ],
   "source": [
    "str1='Hello World'\n",
    "print(str1)\n",
    "print(type(str1))\n",
    "print(str1[0])\n",
    "print(str1[-1])\n",
    "print(str1[0:5])\n",
    "print(str1[-5:-1])\n",
    "print(str1[::-1]) # string reverse"
   ]
  },
  {
   "cell_type": "code",
   "execution_count": 42,
   "metadata": {},
   "outputs": [
    {
     "name": "stdout",
     "output_type": "stream",
     "text": [
      "helloAbhishek\n",
      "JagtapJagtapJagtap\n",
      "Hello\n",
      "aBHISHEK\n",
      "JAGTAP\n",
      "jagtap\n",
      "6\n",
      "t\n",
      "J\n"
     ]
    }
   ],
   "source": [
    "s1='hello'\n",
    "s2='Abhishek'\n",
    "s3='Jagtap'\n",
    "print(s1+s2)\n",
    "print(s3*3)\n",
    "print(s1.capitalize())\n",
    "print(s2.swapcase())\n",
    "print(s3.upper())\n",
    "print(s3.lower())\n",
    "print(len(s3))\n",
    "print(max(s3)) #Max ASCII value in string\n",
    "print(min(s3)) #Min ASCII value in string"
   ]
  },
  {
   "cell_type": "code",
   "execution_count": 43,
   "metadata": {},
   "outputs": [
    {
     "name": "stdout",
     "output_type": "stream",
     "text": [
      "False\n",
      "heddo\n",
      "hello\n",
      "True\n",
      "True\n",
      "2\n",
      "5\n",
      "-1\n",
      "True\n",
      "False\n",
      "h e l l o "
     ]
    }
   ],
   "source": [
    "print(s1.isdigit())\n",
    "print(s1.replace('l', 'd'))\n",
    "print(s1)\n",
    "print('h' in s1)\n",
    "print('H' not in s1)\n",
    "print(s2.find('h'))\n",
    "print(s2.find('h',3))\n",
    "print(s2.find('h',3,5))\n",
    "print(s3.isalpha())\n",
    "print('abc123'.isalpha())\n",
    "\n",
    "for i in s1:\n",
    "    print(i, end=\" \")"
   ]
  },
  {
   "cell_type": "code",
   "execution_count": 36,
   "metadata": {},
   "outputs": [
    {
     "name": "stdout",
     "output_type": "stream",
     "text": [
      "Hello\n"
     ]
    },
    {
     "ename": "TypeError",
     "evalue": "'str' object does not support item assignment",
     "output_type": "error",
     "traceback": [
      "\u001b[1;31m---------------------------------------------------------------------------\u001b[0m",
      "\u001b[1;31mTypeError\u001b[0m                                 Traceback (most recent call last)",
      "\u001b[1;32m<ipython-input-36-3fe1456b57eb>\u001b[0m in \u001b[0;36m<module>\u001b[1;34m\u001b[0m\n\u001b[0;32m      1\u001b[0m \u001b[0ms1\u001b[0m\u001b[1;33m=\u001b[0m\u001b[1;34m\"Hello\"\u001b[0m\u001b[1;33m\u001b[0m\u001b[1;33m\u001b[0m\u001b[0m\n\u001b[0;32m      2\u001b[0m \u001b[0mprint\u001b[0m\u001b[1;33m(\u001b[0m\u001b[0ms1\u001b[0m\u001b[1;33m)\u001b[0m\u001b[1;33m\u001b[0m\u001b[1;33m\u001b[0m\u001b[0m\n\u001b[1;32m----> 3\u001b[1;33m \u001b[0ms1\u001b[0m\u001b[1;33m[\u001b[0m\u001b[1;36m0\u001b[0m\u001b[1;33m]\u001b[0m\u001b[1;33m=\u001b[0m\u001b[1;34m'D'\u001b[0m\u001b[1;33m\u001b[0m\u001b[1;33m\u001b[0m\u001b[0m\n\u001b[0m\u001b[0;32m      4\u001b[0m \u001b[0mprint\u001b[0m\u001b[1;33m(\u001b[0m\u001b[0ms1\u001b[0m\u001b[1;33m)\u001b[0m\u001b[1;33m\u001b[0m\u001b[1;33m\u001b[0m\u001b[0m\n",
      "\u001b[1;31mTypeError\u001b[0m: 'str' object does not support item assignment"
     ]
    }
   ],
   "source": [
    "s1=\"Hello\"\n",
    "print(s1)\n",
    "s1[0]='D'\n",
    "print(s1)"
   ]
  },
  {
   "cell_type": "code",
   "execution_count": 45,
   "metadata": {},
   "outputs": [
    {
     "name": "stdout",
     "output_type": "stream",
     "text": [
      "sanas\n",
      "sanas\n",
      "String is palindrome\n"
     ]
    }
   ],
   "source": [
    "#palindrom\n",
    "s1='sanas'\n",
    "s2=s1[::-1]\n",
    "print(s1)\n",
    "print(s2)\n",
    "if s1==s2:\n",
    "    print(\"String is palindrome\")\n",
    "else:\n",
    "    print(\"String is not palindrome\")"
   ]
  },
  {
   "cell_type": "markdown",
   "metadata": {},
   "source": [
    "# List"
   ]
  },
  {
   "cell_type": "code",
   "execution_count": 47,
   "metadata": {},
   "outputs": [
    {
     "name": "stdout",
     "output_type": "stream",
     "text": [
      "[1, 2, 3, 4]\n",
      "<class 'list'>\n"
     ]
    }
   ],
   "source": [
    "l = [1, 2, 3, 4]\n",
    "print(l)\n",
    "print(type(l))"
   ]
  },
  {
   "cell_type": "code",
   "execution_count": 51,
   "metadata": {},
   "outputs": [
    {
     "name": "stdout",
     "output_type": "stream",
     "text": [
      "1\n",
      "4\n",
      "3\n",
      "True\n"
     ]
    }
   ],
   "source": [
    "print(l[0])\n",
    "print(l[3])\n",
    "print(l[-2])\n",
    "print(1 in l)"
   ]
  },
  {
   "cell_type": "code",
   "execution_count": 53,
   "metadata": {},
   "outputs": [
    {
     "name": "stdout",
     "output_type": "stream",
     "text": [
      "[1, 2, 9, 4]\n",
      "False\n"
     ]
    }
   ],
   "source": [
    "l[2] = 9\n",
    "print(l)\n",
    "print(3 in l)"
   ]
  },
  {
   "cell_type": "code",
   "execution_count": 64,
   "metadata": {},
   "outputs": [
    {
     "name": "stdout",
     "output_type": "stream",
     "text": [
      "[1, 2, 3, [10, 20, 30], 4, 5, [22.3, 44.5, ['a', 'b', 'c'], 66.7]]\n"
     ]
    }
   ],
   "source": [
    "#list of list\n",
    "l = [1, 2, 3, [10, 20, 30], 4, 5, [22.3, 44.5, ['a', 'b', 'c'], 66.7]]\n",
    "print(l)"
   ]
  },
  {
   "cell_type": "code",
   "execution_count": 65,
   "metadata": {},
   "outputs": [
    {
     "name": "stdout",
     "output_type": "stream",
     "text": [
      "[10, 20, 30]\n",
      "30\n",
      "[22.3, 44.5, ['a', 'b', 'c'], 66.7]\n",
      "['a', 'b', 'c']\n",
      "b\n"
     ]
    }
   ],
   "source": [
    "print(l[3])\n",
    "print(l[3][2])\n",
    "print(l[6])\n",
    "print(l[6][2])\n",
    "print(l[6][2][1])"
   ]
  },
  {
   "cell_type": "code",
   "execution_count": 66,
   "metadata": {},
   "outputs": [
    {
     "name": "stdout",
     "output_type": "stream",
     "text": [
      "[1, 3, [10, 20, 30], 4, 5, [22.3, 44.5, ['a', 'b', 'c'], 66.7]]\n"
     ]
    }
   ],
   "source": [
    "l.remove(2)\n",
    "print(l)"
   ]
  },
  {
   "cell_type": "code",
   "execution_count": 67,
   "metadata": {},
   "outputs": [
    {
     "name": "stdout",
     "output_type": "stream",
     "text": [
      "[3, [10, 20, 30], 4, 5, [22.3, 44.5, ['a', 'b', 'c'], 66.7]]\n"
     ]
    }
   ],
   "source": [
    "del l[0]\n",
    "print(l)"
   ]
  },
  {
   "cell_type": "code",
   "execution_count": 79,
   "metadata": {},
   "outputs": [
    {
     "name": "stdout",
     "output_type": "stream",
     "text": [
      "[1, 2, 3, 3, 5, 4]\n"
     ]
    }
   ],
   "source": [
    "l1=[1, 2, 3]\n",
    "l2=[3, 5, 4]\n",
    "l3 = l1 + l2\n",
    "print(l3)"
   ]
  },
  {
   "cell_type": "code",
   "execution_count": 80,
   "metadata": {},
   "outputs": [
    {
     "name": "stdout",
     "output_type": "stream",
     "text": [
      "1 2 3 3 5 4 "
     ]
    }
   ],
   "source": [
    "for i in l3:\n",
    "    print(i, end=\" \")"
   ]
  },
  {
   "cell_type": "code",
   "execution_count": 81,
   "metadata": {},
   "outputs": [
    {
     "name": "stdout",
     "output_type": "stream",
     "text": [
      "[1, 2, 3, 3, 5]\n",
      "[1, 3, 3, 5]\n"
     ]
    }
   ],
   "source": [
    "l3.pop()\n",
    "print(l3)\n",
    "l3.pop(1)\n",
    "print(l3)"
   ]
  },
  {
   "cell_type": "code",
   "execution_count": 100,
   "metadata": {},
   "outputs": [
    {
     "name": "stdout",
     "output_type": "stream",
     "text": [
      "[1, 2, 3, 4, 5, 6, 7, 8, 9]\n",
      "[1, 2, 3, 4, 5, 6, 7, 8, 9]\n",
      "[9, 8, 7, 6, 5, 4, 3, 2, 1]\n",
      "2\n",
      "9\n",
      "9\n",
      "1\n",
      "9\n",
      "[1, 2, 3, 4, 5, 0, 6, 7, 8, 9]\n",
      "[1, 2, 3, 4, 5, 0, 6, 7, 8, 9, 1]\n",
      "[0, 1, 1, 2, 3, 4, 5, 6, 7, 8, 9]\n",
      "[9, 8, 7, 6, 5, 4, 3, 2, 1, 1, 0]\n",
      "[9, 8, 7, 6, 5, 4, 3, 2, 1, 1, 0, 9, 8, 7, 6, 5, 4, 3, 2, 1, 1, 0, 9, 8, 7, 6, 5, 4, 3, 2, 1, 1, 0]\n"
     ]
    }
   ],
   "source": [
    "l1 = [1, 2, 3, 4, 5, 6, 7, 8, 9]\n",
    "print(l1)\n",
    "print(l1[:])\n",
    "print(l1[::-1])\n",
    "print(l1[1])\n",
    "print(l1[-1])\n",
    "print(max(l1))\n",
    "print(min(l1))\n",
    "print(len(l1))\n",
    "l1.insert(5, 0)\n",
    "print(l1)\n",
    "l1.append(1)\n",
    "print(l1)\n",
    "l1.sort()\n",
    "print(l1)\n",
    "l1.reverse()\n",
    "print(l1)\n",
    "print(l1*3)"
   ]
  },
  {
   "cell_type": "markdown",
   "metadata": {},
   "source": [
    "# Tuple"
   ]
  },
  {
   "cell_type": "code",
   "execution_count": 101,
   "metadata": {},
   "outputs": [
    {
     "name": "stdout",
     "output_type": "stream",
     "text": [
      "(1, 2, 3, 4)\n",
      "<class 'tuple'>\n"
     ]
    }
   ],
   "source": [
    "t= (1,2,3,4)\n",
    "print(t)\n",
    "print(type(t))"
   ]
  },
  {
   "cell_type": "code",
   "execution_count": 104,
   "metadata": {},
   "outputs": [
    {
     "name": "stdout",
     "output_type": "stream",
     "text": [
      "(1,)\n"
     ]
    }
   ],
   "source": [
    "#signle value tuple\n",
    "t=(1,)\n",
    "print(t)"
   ]
  },
  {
   "cell_type": "code",
   "execution_count": 105,
   "metadata": {},
   "outputs": [
    {
     "name": "stdout",
     "output_type": "stream",
     "text": [
      "1\n",
      "5\n",
      "7\n",
      "True\n"
     ]
    }
   ],
   "source": [
    "t = (1, 2, 3, 5, 6, 7, 0)\n",
    "print(t[0])\n",
    "print(t[3])\n",
    "print(t[-2])\n",
    "print(1 in t)"
   ]
  },
  {
   "cell_type": "code",
   "execution_count": 109,
   "metadata": {},
   "outputs": [
    {
     "name": "stdout",
     "output_type": "stream",
     "text": [
      "(1, 2, 3, 4, 5, 6, 7, 8, 9)\n",
      "(1, 2, 3, 4, 5, 6, 7, 8, 9)\n",
      "(9, 8, 7, 6, 5, 4, 3, 2, 1)\n",
      "2\n",
      "9\n",
      "9\n",
      "1\n",
      "9\n",
      "(1, 2, 3, 4, 5, 6, 7, 8, 9)\n",
      "(1, 2, 3, 4, 5, 6, 7, 8, 9, 1, 2, 3, 4, 5, 6, 7, 8, 9, 1, 2, 3, 4, 5, 6, 7, 8, 9)\n"
     ]
    }
   ],
   "source": [
    "l1 = (1, 2, 3, 4, 5, 6, 7, 8, 9)\n",
    "print(l1)\n",
    "print(l1[:])\n",
    "print(l1[::-1])\n",
    "print(l1[1])\n",
    "print(l1[-1])\n",
    "print(max(l1))\n",
    "print(min(l1))\n",
    "print(len(l1))\n",
    "print(l1)\n",
    "print(l1*3)"
   ]
  },
  {
   "cell_type": "code",
   "execution_count": 110,
   "metadata": {},
   "outputs": [
    {
     "name": "stdout",
     "output_type": "stream",
     "text": [
      "(1, 2, 3, 2, 3, 4)\n"
     ]
    }
   ],
   "source": [
    "t1 = (1,2 ,3)\n",
    "t2 = (2,3 ,4)\n",
    "print(t1 + t2)"
   ]
  },
  {
   "cell_type": "code",
   "execution_count": 111,
   "metadata": {},
   "outputs": [
    {
     "name": "stdout",
     "output_type": "stream",
     "text": [
      "<class 'tuple'> (1,)\n",
      "<class 'tuple'> (2, 3, 4, 5)\n",
      "<class 'tuple'> ()\n"
     ]
    }
   ],
   "source": [
    "#variable arguments\n",
    "def var(*args):\n",
    "    print(type(args), end=\" \")\n",
    "    print(args)\n",
    "\n",
    "var(1)\n",
    "var(2,3,4,5)\n",
    "var()"
   ]
  },
  {
   "cell_type": "markdown",
   "metadata": {},
   "source": [
    "# Dictionary"
   ]
  },
  {
   "cell_type": "code",
   "execution_count": 113,
   "metadata": {},
   "outputs": [
    {
     "name": "stdout",
     "output_type": "stream",
     "text": [
      "{1: 'Comp'}\n",
      "Comp\n"
     ]
    }
   ],
   "source": [
    "d = {1: \"Comp\"}\n",
    "print(d)\n",
    "print(d[1])"
   ]
  },
  {
   "cell_type": "code",
   "execution_count": 116,
   "metadata": {},
   "outputs": [
    {
     "name": "stdout",
     "output_type": "stream",
     "text": [
      "{'Comp': 1, 'IT': 2}\n",
      "2\n",
      "{'Comp': 1}\n",
      "{}\n"
     ]
    }
   ],
   "source": [
    "d = {\"Comp\": 1, \"IT\":2}\n",
    "print(d)\n",
    "print(d['IT'])\n",
    "del d['IT']\n",
    "print(d)\n",
    "d.clear()\n",
    "print(d)"
   ]
  },
  {
   "cell_type": "code",
   "execution_count": 122,
   "metadata": {},
   "outputs": [
    {
     "name": "stdout",
     "output_type": "stream",
     "text": [
      "True\n",
      "{1: 'Comp', 2: 'IT'}\n",
      "2\n",
      "dict_keys([1, 2])\n",
      "dict_values(['Comp', 'IT'])\n"
     ]
    }
   ],
   "source": [
    "d = {1: \"Comp\", 2 : \"IT\"}\n",
    "print(2 in d)\n",
    "print(str(d))\n",
    "print(len(d))\n",
    "print(d.keys())\n",
    "print(d.values())"
   ]
  },
  {
   "cell_type": "code",
   "execution_count": 123,
   "metadata": {},
   "outputs": [
    {
     "name": "stdout",
     "output_type": "stream",
     "text": [
      "{1: 'Comp', 2: 'Mech', 3: 'EXTC'}\n"
     ]
    }
   ],
   "source": [
    "d1 = {1: \"Comp\", 2 : \"IT\"}\n",
    "d2 = {3: \"EXTC\", 2 : \"Mech\"}\n",
    "d1.update(d2)\n",
    "print(d1)"
   ]
  },
  {
   "cell_type": "code",
   "execution_count": 125,
   "metadata": {},
   "outputs": [
    {
     "name": "stdout",
     "output_type": "stream",
     "text": [
      "Comp\n",
      "Comp\n"
     ]
    }
   ],
   "source": [
    "print(d1[1])\n",
    "print(d1.get(1))"
   ]
  },
  {
   "cell_type": "code",
   "execution_count": 126,
   "metadata": {},
   "outputs": [
    {
     "name": "stdout",
     "output_type": "stream",
     "text": [
      "{1: ['A', 'B'], 2: ['C', 'D']}\n",
      "['A', 'B']\n"
     ]
    }
   ],
   "source": [
    "d = {1: ['A', 'B'], 2:['C', 'D']}\n",
    "print(d)\n",
    "print(d[1])"
   ]
  },
  {
   "cell_type": "code",
   "execution_count": 131,
   "metadata": {},
   "outputs": [
    {
     "name": "stdout",
     "output_type": "stream",
     "text": [
      "{1: ['A', 'B'], 2: ['C', 'D'], 3: {1: 'A', 2: ['B', 'C']}}\n",
      "{1: 'A', 2: ['B', 'C']}\n",
      "['B', 'C']\n"
     ]
    }
   ],
   "source": [
    "d = {1: ['A', 'B'], 2:['C', 'D'], 3 : {1: 'A', 2: ['B', 'C']}}\n",
    "print(d)\n",
    "print(d[3])\n",
    "print(d[3][2])"
   ]
  }
 ],
 "metadata": {
  "kernelspec": {
   "display_name": "Python 3",
   "language": "python",
   "name": "python3"
  },
  "language_info": {
   "codemirror_mode": {
    "name": "ipython",
    "version": 3
   },
   "file_extension": ".py",
   "mimetype": "text/x-python",
   "name": "python",
   "nbconvert_exporter": "python",
   "pygments_lexer": "ipython3",
   "version": "3.7.6"
  }
 },
 "nbformat": 4,
 "nbformat_minor": 4
}
