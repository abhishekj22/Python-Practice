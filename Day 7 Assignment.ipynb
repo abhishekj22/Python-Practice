{
 "cells": [
  {
   "cell_type": "code",
   "execution_count": null,
   "metadata": {},
   "outputs": [],
   "source": [
    "#Q.1 map(), filter(), reduce()"
   ]
  },
  {
   "cell_type": "markdown",
   "metadata": {},
   "source": [
    "# Map, Filter and Reduce\n",
    "\n",
    "Map, Filter and Reduce are paradigms of functional programming. \n",
    "They allow the programmer (you) to write simpler, shorter code, without neccessarily needing to bother about intricacies like loops and branching."
   ]
  },
  {
   "cell_type": "markdown",
   "metadata": {},
   "source": [
    "## map() function"
   ]
  },
  {
   "cell_type": "markdown",
   "metadata": {},
   "source": [
    "_map(func, iterables)_\n",
    "\n",
    "Where _func_ is the function on which each element in _iterables_ (as many as they are) would be applied on. \n",
    "\n",
    "map() function returns a map object(which is an iterator) of the results after applying the given function to each item of a given iterable (list, tuple etc.)"
   ]
  },
  {
   "cell_type": "code",
   "execution_count": 3,
   "metadata": {},
   "outputs": [
    {
     "name": "stdout",
     "output_type": "stream",
     "text": [
      "<map object at 0x000001EEA21B0D48>\n",
      "1 2 3 4 5 [1, 4, 9, 16, 25]\n"
     ]
    }
   ],
   "source": [
    "def sqr(a):\n",
    "    print(a, end=\" \")\n",
    "    return a*a\n",
    "\n",
    "x = map(sqr, (1,2,3,4, 5))  #any iterable in 2nd argument\n",
    "print(x)\n",
    "print(list(x))"
   ]
  },
  {
   "cell_type": "code",
   "execution_count": 4,
   "metadata": {},
   "outputs": [
    {
     "name": "stdout",
     "output_type": "stream",
     "text": [
      "(2, 4, 6, 12, 15)\n"
     ]
    }
   ],
   "source": [
    "def sqr(a, b):\n",
    "    return a*b\n",
    "\n",
    "# x = map(sqr, (1,2,3,4,5), [2, 2, 2, 3, 3]) \n",
    "# print(tuple(x))\n",
    "print(tuple(map(sqr, (1,2,3,4,5), [2, 2, 2, 3, 3])))"
   ]
  },
  {
   "cell_type": "markdown",
   "metadata": {},
   "source": [
    "## filter() function"
   ]
  },
  {
   "cell_type": "markdown",
   "metadata": {},
   "source": [
    "The filter() method filters the given iterable with the help of a function that tests each element in the iterable to be true or not.\n",
    "\n",
    "_filter(function, iterable)_\n",
    "\n",
    "function - function that tests if elements of an iterable returns true or false. If None, the function defaults to Identity function which returns false if any elements are false\n",
    "\n",
    "iterable - iterable which is to be filtered, could be sets, lists, tuples, or containers of any iterators"
   ]
  },
  {
   "cell_type": "code",
   "execution_count": 7,
   "metadata": {},
   "outputs": [
    {
     "name": "stdout",
     "output_type": "stream",
     "text": [
      "The filtered vowels are:\n",
      "a e i o "
     ]
    }
   ],
   "source": [
    "def filterVowels(alphabet):\n",
    "    vowels = ['a', 'e', 'i', 'o', 'u']\n",
    "    if(alphabet in vowels):\n",
    "        return True\n",
    "    else:\n",
    "        return False\n",
    "\n",
    "filteredVowels = filter(filterVowels, ['a', 'b', 'd', 'e', 'i', 'j', 'o', 'k'])\n",
    "\n",
    "print('The filtered vowels are:')\n",
    "for vowel in filteredVowels:\n",
    "    print(vowel, end = \" \")"
   ]
  },
  {
   "cell_type": "code",
   "execution_count": 9,
   "metadata": {},
   "outputs": [
    {
     "data": {
      "text/plain": [
       "[4, 5, 6]"
      ]
     },
     "execution_count": 9,
     "metadata": {},
     "output_type": "execute_result"
    }
   ],
   "source": [
    "list(filter(lambda x: x > 3, (1,2,3,4,5,6)))"
   ]
  },
  {
   "cell_type": "markdown",
   "metadata": {},
   "source": [
    "## reduce() function"
   ]
  },
  {
   "cell_type": "markdown",
   "metadata": {},
   "source": [
    "The reduce(fun,seq) function is used to apply a particular function passed in its argument to all of the list elements mentioned in the sequence passed along.This function is defined in “functools” module.\n",
    "\n",
    "_reduce(function, sequence)_\n",
    "\n",
    "function - which will take two arguments are after performing operations will return one value\n",
    "sequence - it is list of value which will be reduce"
   ]
  },
  {
   "cell_type": "code",
   "execution_count": 14,
   "metadata": {},
   "outputs": [
    {
     "name": "stdout",
     "output_type": "stream",
     "text": [
      "Factorial of 3:  6\n"
     ]
    }
   ],
   "source": [
    "import functools\n",
    "def mult(x,y):\n",
    "    return x*y\n",
    "\n",
    "fact=functools.reduce(mult, range(1, 4))\n",
    "print ('Factorial of 3: ', fact)"
   ]
  },
  {
   "cell_type": "code",
   "execution_count": 15,
   "metadata": {},
   "outputs": [
    {
     "name": "stdout",
     "output_type": "stream",
     "text": [
      "15\n"
     ]
    }
   ],
   "source": [
    "x = reduce(lambda a,b: a+b, (1,2,3,4,5))\n",
    "print(x)"
   ]
  },
  {
   "cell_type": "code",
   "execution_count": 1,
   "metadata": {},
   "outputs": [],
   "source": [
    "#Q.2 Add the digits of a positive integer repeatedly until the result has a single digit."
   ]
  },
  {
   "cell_type": "code",
   "execution_count": 2,
   "metadata": {},
   "outputs": [
    {
     "name": "stdout",
     "output_type": "stream",
     "text": [
      "Enter a number: 1999\n",
      "1\n"
     ]
    }
   ],
   "source": [
    "from functools import reduce\n",
    "\n",
    "num = int(input(\"Enter a number: \"))\n",
    "l = []\n",
    "\n",
    "def abc(num):\n",
    "    p = []\n",
    "    while num / 10 > 0:\n",
    "        p.append(num % 10)\n",
    "        num = int(num / 10)\n",
    "    return p\n",
    "\n",
    "while num >= 9:\n",
    "    l = abc(num)\n",
    "    num = reduce(lambda a,b: a+b, l)\n",
    "    \n",
    "print(num)"
   ]
  }
 ],
 "metadata": {
  "kernelspec": {
   "display_name": "Python 3",
   "language": "python",
   "name": "python3"
  },
  "language_info": {
   "codemirror_mode": {
    "name": "ipython",
    "version": 3
   },
   "file_extension": ".py",
   "mimetype": "text/x-python",
   "name": "python",
   "nbconvert_exporter": "python",
   "pygments_lexer": "ipython3",
   "version": "3.7.6"
  }
 },
 "nbformat": 4,
 "nbformat_minor": 4
}
